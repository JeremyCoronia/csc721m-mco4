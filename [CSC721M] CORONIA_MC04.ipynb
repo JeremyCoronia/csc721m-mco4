{
 "cells": [
  {
   "cell_type": "code",
   "execution_count": 1,
   "metadata": {},
   "outputs": [],
   "source": [
    "# from datetime import datetime\n",
    "# import datetime as dt\n",
    "# import pandas_datareader as web\n",
    "# from pandas_datareader.data import DataReader\n",
    "# import yfinance as yf\n",
    "# import numpy as np\n",
    "# import matplotlib.pyplot as plt\n",
    "# import pandas as pd\n",
    "# import seaborn as sns\n",
    "\n",
    "# # sns.set_style('whitegrid')\n",
    "# # plt.style.use('fivethirtyeight')\n",
    "# %matplotlib inline\n",
    "\n",
    "# YEARS = 17\n",
    "\n",
    "# techlist = ['AAPL', 'GOOG', 'MSFT', 'AMZN']\n",
    "# end = datetime.now()\n",
    "# start = datetime(end.year - YEARS, end.month, end.day)\n",
    "\n",
    "# for stock in techlist:\n",
    "#     globals()[stock] = yf.download(stock, start, end)"
   ]
  },
  {
   "cell_type": "markdown",
   "metadata": {},
   "source": [
    "# LSTM"
   ]
  },
  {
   "cell_type": "code",
   "execution_count": 2,
   "metadata": {},
   "outputs": [],
   "source": [
    "from datetime import datetime\n",
    "import datetime as dt\n",
    "import pandas_datareader as web\n",
    "from pandas_datareader.data import DataReader\n",
    "import yfinance as yf\n",
    "import numpy as np\n",
    "import matplotlib.pyplot as plt\n",
    "import pandas as pd\n",
    "import seaborn as sns\n",
    "\n",
    "# sns.set_style('whitegrid')\n",
    "# plt.style.use('fivethirtyeight')\n",
    "%matplotlib inline\n",
    "\n",
    "YEARS = 17\n",
    "end = datetime.now()\n",
    "start = datetime(end.year - YEARS, end.month, end.day)"
   ]
  },
  {
   "cell_type": "code",
   "execution_count": 3,
   "metadata": {},
   "outputs": [
    {
     "data": {
      "text/plain": [
       "10868"
      ]
     },
     "execution_count": 3,
     "metadata": {},
     "output_type": "execute_result"
    }
   ],
   "source": [
    "# df = DataReader('GOOG', data_source='yahoo', start=datetime(end.year - YEARS, end.month, end.day), end=datetime(end.year, end.month, end.day))\n",
    "df = pd.read_csv('hpq.us_1970-to-2017.txt')\n",
    "data = df.filter(['Close'])\n",
    "dataset = data.values\n",
    "\n",
    "train_size = int(np.ceil( len(dataset) * .90))\n",
    "\n",
    "train_size"
   ]
  },
  {
   "cell_type": "code",
   "execution_count": 4,
   "metadata": {},
   "outputs": [
    {
     "data": {
      "text/html": [
       "<div>\n",
       "<style scoped>\n",
       "    .dataframe tbody tr th:only-of-type {\n",
       "        vertical-align: middle;\n",
       "    }\n",
       "\n",
       "    .dataframe tbody tr th {\n",
       "        vertical-align: top;\n",
       "    }\n",
       "\n",
       "    .dataframe thead th {\n",
       "        text-align: right;\n",
       "    }\n",
       "</style>\n",
       "<table border=\"1\" class=\"dataframe\">\n",
       "  <thead>\n",
       "    <tr style=\"text-align: right;\">\n",
       "      <th></th>\n",
       "      <th>Date</th>\n",
       "      <th>Open</th>\n",
       "      <th>High</th>\n",
       "      <th>Low</th>\n",
       "      <th>Close</th>\n",
       "      <th>Volume</th>\n",
       "      <th>OpenInt</th>\n",
       "    </tr>\n",
       "  </thead>\n",
       "  <tbody>\n",
       "    <tr>\n",
       "      <th>0</th>\n",
       "      <td>1970-01-02</td>\n",
       "      <td>0.30627</td>\n",
       "      <td>0.30627</td>\n",
       "      <td>0.30627</td>\n",
       "      <td>0.30627</td>\n",
       "      <td>2441124</td>\n",
       "      <td>0</td>\n",
       "    </tr>\n",
       "    <tr>\n",
       "      <th>1</th>\n",
       "      <td>1970-01-05</td>\n",
       "      <td>0.30627</td>\n",
       "      <td>0.31768</td>\n",
       "      <td>0.30627</td>\n",
       "      <td>0.31385</td>\n",
       "      <td>6219848</td>\n",
       "      <td>0</td>\n",
       "    </tr>\n",
       "    <tr>\n",
       "      <th>2</th>\n",
       "      <td>1970-01-06</td>\n",
       "      <td>0.31385</td>\n",
       "      <td>0.31385</td>\n",
       "      <td>0.30996</td>\n",
       "      <td>0.30996</td>\n",
       "      <td>4447522</td>\n",
       "      <td>0</td>\n",
       "    </tr>\n",
       "    <tr>\n",
       "      <th>3</th>\n",
       "      <td>1970-01-07</td>\n",
       "      <td>0.31385</td>\n",
       "      <td>0.31385</td>\n",
       "      <td>0.31385</td>\n",
       "      <td>0.31385</td>\n",
       "      <td>1872638</td>\n",
       "      <td>0</td>\n",
       "    </tr>\n",
       "    <tr>\n",
       "      <th>4</th>\n",
       "      <td>1970-01-08</td>\n",
       "      <td>0.31385</td>\n",
       "      <td>0.31768</td>\n",
       "      <td>0.31385</td>\n",
       "      <td>0.31385</td>\n",
       "      <td>4280330</td>\n",
       "      <td>0</td>\n",
       "    </tr>\n",
       "    <tr>\n",
       "      <th>...</th>\n",
       "      <td>...</td>\n",
       "      <td>...</td>\n",
       "      <td>...</td>\n",
       "      <td>...</td>\n",
       "      <td>...</td>\n",
       "      <td>...</td>\n",
       "      <td>...</td>\n",
       "    </tr>\n",
       "    <tr>\n",
       "      <th>12070</th>\n",
       "      <td>2017-11-06</td>\n",
       "      <td>21.47000</td>\n",
       "      <td>21.53000</td>\n",
       "      <td>21.38000</td>\n",
       "      <td>21.44000</td>\n",
       "      <td>13309476</td>\n",
       "      <td>0</td>\n",
       "    </tr>\n",
       "    <tr>\n",
       "      <th>12071</th>\n",
       "      <td>2017-11-07</td>\n",
       "      <td>21.47000</td>\n",
       "      <td>21.47000</td>\n",
       "      <td>21.32000</td>\n",
       "      <td>21.38000</td>\n",
       "      <td>6245536</td>\n",
       "      <td>0</td>\n",
       "    </tr>\n",
       "    <tr>\n",
       "      <th>12072</th>\n",
       "      <td>2017-11-08</td>\n",
       "      <td>21.34000</td>\n",
       "      <td>21.47000</td>\n",
       "      <td>21.24000</td>\n",
       "      <td>21.42000</td>\n",
       "      <td>6061868</td>\n",
       "      <td>0</td>\n",
       "    </tr>\n",
       "    <tr>\n",
       "      <th>12073</th>\n",
       "      <td>2017-11-09</td>\n",
       "      <td>21.27000</td>\n",
       "      <td>21.40000</td>\n",
       "      <td>21.15000</td>\n",
       "      <td>21.34000</td>\n",
       "      <td>5844935</td>\n",
       "      <td>0</td>\n",
       "    </tr>\n",
       "    <tr>\n",
       "      <th>12074</th>\n",
       "      <td>2017-11-10</td>\n",
       "      <td>21.25000</td>\n",
       "      <td>21.31000</td>\n",
       "      <td>21.14000</td>\n",
       "      <td>21.23000</td>\n",
       "      <td>6276650</td>\n",
       "      <td>0</td>\n",
       "    </tr>\n",
       "  </tbody>\n",
       "</table>\n",
       "<p>12075 rows × 7 columns</p>\n",
       "</div>"
      ],
      "text/plain": [
       "             Date      Open      High       Low     Close    Volume  OpenInt\n",
       "0      1970-01-02   0.30627   0.30627   0.30627   0.30627   2441124        0\n",
       "1      1970-01-05   0.30627   0.31768   0.30627   0.31385   6219848        0\n",
       "2      1970-01-06   0.31385   0.31385   0.30996   0.30996   4447522        0\n",
       "3      1970-01-07   0.31385   0.31385   0.31385   0.31385   1872638        0\n",
       "4      1970-01-08   0.31385   0.31768   0.31385   0.31385   4280330        0\n",
       "...           ...       ...       ...       ...       ...       ...      ...\n",
       "12070  2017-11-06  21.47000  21.53000  21.38000  21.44000  13309476        0\n",
       "12071  2017-11-07  21.47000  21.47000  21.32000  21.38000   6245536        0\n",
       "12072  2017-11-08  21.34000  21.47000  21.24000  21.42000   6061868        0\n",
       "12073  2017-11-09  21.27000  21.40000  21.15000  21.34000   5844935        0\n",
       "12074  2017-11-10  21.25000  21.31000  21.14000  21.23000   6276650        0\n",
       "\n",
       "[12075 rows x 7 columns]"
      ]
     },
     "execution_count": 4,
     "metadata": {},
     "output_type": "execute_result"
    }
   ],
   "source": [
    "df"
   ]
  },
  {
   "cell_type": "code",
   "execution_count": 5,
   "metadata": {},
   "outputs": [
    {
     "data": {
      "text/plain": [
       "Text(0.5, 1.0, 'Closing Price of Google')"
      ]
     },
     "execution_count": 5,
     "metadata": {},
     "output_type": "execute_result"
    },
    {
     "data": {
      "image/png": "[encoded data removed]",
      "text/plain": [
       "<Figure size 1440x576 with 1 Axes>"
      ]
     },
     "metadata": {
      "needs_background": "light"
     },
     "output_type": "display_data"
    }
   ],
   "source": [
    "plt.figure(figsize=(20,8))\n",
    "\n",
    "df['Close'].plot()\n",
    "plt.ylabel('Closing Price')\n",
    "plt.title(\"Closing Price of Google\")"
   ]
  },
  {
   "cell_type": "code",
   "execution_count": 6,
   "metadata": {},
   "outputs": [
    {
     "data": {
      "text/plain": [
       "Text(0.5, 1.0, 'Sales Volume of Google')"
      ]
     },
     "execution_count": 6,
     "metadata": {},
     "output_type": "execute_result"
    },
    {
     "data": {
      "image/png": "[encoded data removed]",
      "text/plain": [
       "<Figure size 1440x576 with 1 Axes>"
      ]
     },
     "metadata": {
      "needs_background": "light"
     },
     "output_type": "display_data"
    }
   ],
   "source": [
    "plt.figure(figsize=(20,8))\n",
    "df['Volume'].plot()\n",
    "plt.ylabel('Sales Volume')\n",
    "plt.title(\"Sales Volume of Google\")"
   ]
  },
  {
   "cell_type": "code",
   "execution_count": 7,
   "metadata": {},
   "outputs": [
    {
     "data": {
      "text/plain": [
       "array([[0.00643699],\n",
       "       [0.00669184],\n",
       "       [0.00656105],\n",
       "       ...,\n",
       "       [0.7163288 ],\n",
       "       [0.71363901],\n",
       "       [0.70994056]])"
      ]
     },
     "execution_count": 7,
     "metadata": {},
     "output_type": "execute_result"
    }
   ],
   "source": [
    "from sklearn.preprocessing import MinMaxScaler\n",
    "\n",
    "scaler = MinMaxScaler(feature_range=(0, 1))\n",
    "scaled_dataset = scaler.fit_transform(dataset)\n",
    "scaled_dataset"
   ]
  },
  {
   "cell_type": "code",
   "execution_count": 8,
   "metadata": {},
   "outputs": [
    {
     "name": "stdout",
     "output_type": "stream",
     "text": [
      "[array([0.00643699, 0.00669184, 0.00656105, 0.00669184, 0.00669184,\n",
      "       0.00682062, 0.00707816, 0.00694973, 0.00694973, 0.0072066 ,\n",
      "       0.00707816, 0.00694973, 0.0072066 , 0.0072066 , 0.0072066 ,\n",
      "       0.00694973, 0.00682062, 0.00656105, 0.00643699, 0.00630485,\n",
      "       0.0061791 , 0.0061791 , 0.0061791 , 0.00604697, 0.00579077,\n",
      "       0.00630485, 0.0061791 , 0.0061791 , 0.00630485, 0.00630485,\n",
      "       0.00630485, 0.00656105, 0.00656105, 0.00669184, 0.00592189,\n",
      "       0.00592189, 0.00604697, 0.00604697, 0.00604697, 0.0061791 ,\n",
      "       0.00566233, 0.00566233, 0.00579077, 0.00566233, 0.00566233,\n",
      "       0.00527903, 0.00540613, 0.00540613, 0.00527903, 0.00527903,\n",
      "       0.00527903, 0.00553456, 0.00553456, 0.00540613, 0.00527903,\n",
      "       0.00502115, 0.00502115, 0.00514724, 0.00514724, 0.00502115])]\n",
      "[0.005021151778383427]\n",
      "\n",
      "[array([0.00643699, 0.00669184, 0.00656105, 0.00669184, 0.00669184,\n",
      "       0.00682062, 0.00707816, 0.00694973, 0.00694973, 0.0072066 ,\n",
      "       0.00707816, 0.00694973, 0.0072066 , 0.0072066 , 0.0072066 ,\n",
      "       0.00694973, 0.00682062, 0.00656105, 0.00643699, 0.00630485,\n",
      "       0.0061791 , 0.0061791 , 0.0061791 , 0.00604697, 0.00579077,\n",
      "       0.00630485, 0.0061791 , 0.0061791 , 0.00630485, 0.00630485,\n",
      "       0.00630485, 0.00656105, 0.00656105, 0.00669184, 0.00592189,\n",
      "       0.00592189, 0.00604697, 0.00604697, 0.00604697, 0.0061791 ,\n",
      "       0.00566233, 0.00566233, 0.00579077, 0.00566233, 0.00566233,\n",
      "       0.00527903, 0.00540613, 0.00540613, 0.00527903, 0.00527903,\n",
      "       0.00527903, 0.00553456, 0.00553456, 0.00540613, 0.00527903,\n",
      "       0.00502115, 0.00502115, 0.00514724, 0.00514724, 0.00502115]), array([0.00669184, 0.00656105, 0.00669184, 0.00669184, 0.00682062,\n",
      "       0.00707816, 0.00694973, 0.00694973, 0.0072066 , 0.00707816,\n",
      "       0.00694973, 0.0072066 , 0.0072066 , 0.0072066 , 0.00694973,\n",
      "       0.00682062, 0.00656105, 0.00643699, 0.00630485, 0.0061791 ,\n",
      "       0.0061791 , 0.0061791 , 0.00604697, 0.00579077, 0.00630485,\n",
      "       0.0061791 , 0.0061791 , 0.00630485, 0.00630485, 0.00630485,\n",
      "       0.00656105, 0.00656105, 0.00669184, 0.00592189, 0.00592189,\n",
      "       0.00604697, 0.00604697, 0.00604697, 0.0061791 , 0.00566233,\n",
      "       0.00566233, 0.00579077, 0.00566233, 0.00566233, 0.00527903,\n",
      "       0.00540613, 0.00540613, 0.00527903, 0.00527903, 0.00527903,\n",
      "       0.00553456, 0.00553456, 0.00540613, 0.00527903, 0.00502115,\n",
      "       0.00502115, 0.00514724, 0.00514724, 0.00502115, 0.00502115])]\n",
      "[0.005021151778383427, 0.005279034690799397]\n",
      "\n"
     ]
    }
   ],
   "source": [
    "train_data = scaled_dataset[0:int(train_size), :]\n",
    "prediction_days = 60 #time steps (stamps)\n",
    "\n",
    "x_train, y_train = [], []\n",
    "\n",
    "for i in range(prediction_days, len(train_data)):\n",
    "    x_train.append(train_data[i-prediction_days:i, 0])\n",
    "    y_train.append(train_data[i, 0])\n",
    "    if i <= (prediction_days + 1):\n",
    "        print(x_train)\n",
    "        print(y_train)\n",
    "        print()\n",
    "    \n",
    "\n",
    "x_train, y_train = np.array(x_train), np.array(y_train)\n",
    "\n",
    "x_train = np.reshape(x_train, (x_train.shape[0], x_train.shape[1], 1))"
   ]
  },
  {
   "cell_type": "code",
   "execution_count": 9,
   "metadata": {},
   "outputs": [],
   "source": [
    "from keras.models import Sequential\n",
    "from keras.layers import Dense, Dropout, LSTM\n",
    "from keras.callbacks import ModelCheckpoint, EarlyStopping\n",
    "\n",
    "DROPOUT_UNIT = 0.2\n",
    "\n",
    "def LSTM_Exp():\n",
    "    model = Sequential()\n",
    "\n",
    "    model.add(LSTM(units = 128, return_sequences = True, input_shape = (x_train.shape[1], 1)))\n",
    "    model.add(Dropout(DROPOUT_UNIT))\n",
    "\n",
    "    # model.add(LSTM(units = 64, return_sequences= True))\n",
    "    # model.add(Dropout(DROPOUT_UNIT))\n",
    "\n",
    "    # model.add(LSTM(units= 64, return_sequences= True))\n",
    "    # model.add(Dropout(DROPOUT_UNIT))\n",
    "    \n",
    "    model.add(LSTM(units= 64, return_sequences= True))\n",
    "    model.add(Dropout(DROPOUT_UNIT))\n",
    "    \n",
    "    model.add(LSTM(units= 64, return_sequences= True))\n",
    "    model.add(Dropout(DROPOUT_UNIT))\n",
    "    \n",
    "    model.add(LSTM(units = 64))\n",
    "    model.add(Dropout(DROPOUT_UNIT))\n",
    "\n",
    "    model.add(Dense(25))\n",
    "    model.add(Dense(1))\n",
    "\n",
    "    return model"
   ]
  },
  {
   "cell_type": "code",
   "execution_count": 10,
   "metadata": {},
   "outputs": [
    {
     "name": "stdout",
     "output_type": "stream",
     "text": [
      "Model: \"sequential\"\n",
      "_________________________________________________________________\n",
      " Layer (type)                Output Shape              Param #   \n",
      "=================================================================\n",
      " lstm (LSTM)                 (None, 60, 128)           66560     \n",
      "                                                                 \n",
      " dropout (Dropout)           (None, 60, 128)           0         \n",
      "                                                                 \n",
      " lstm_1 (LSTM)               (None, 60, 64)            49408     \n",
      "                                                                 \n",
      " dropout_1 (Dropout)         (None, 60, 64)            0         \n",
      "                                                                 \n",
      " lstm_2 (LSTM)               (None, 60, 64)            33024     \n",
      "                                                                 \n",
      " dropout_2 (Dropout)         (None, 60, 64)            0         \n",
      "                                                                 \n",
      " lstm_3 (LSTM)               (None, 64)                33024     \n",
      "                                                                 \n",
      " dropout_3 (Dropout)         (None, 64)                0         \n",
      "                                                                 \n",
      " dense (Dense)               (None, 25)                1625      \n",
      "                                                                 \n",
      " dense_1 (Dense)             (None, 1)                 26        \n",
      "                                                                 \n",
      "=================================================================\n",
      "Total params: 183,667\n",
      "Trainable params: 183,667\n",
      "Non-trainable params: 0\n",
      "_________________________________________________________________\n"
     ]
    }
   ],
   "source": [
    "# from tensorflow.keras.optimizers import Adam\n",
    "\n",
    "# adam = Adam(learning_rate=5e-3)\n",
    "\n",
    "model = LSTM_Exp()\n",
    "model.summary()\n",
    "model.compile(optimizer='adam', loss=['mean_squared_error', 'mean_absolute_error'])"
   ]
  },
  {
   "cell_type": "code",
   "execution_count": 11,
   "metadata": {},
   "outputs": [],
   "source": [
    "def f1_score(new_pred, new_ytest):\n",
    "    TP = 0\n",
    "    FN = 0\n",
    "    FP = 0\n",
    "\n",
    "    for i in range(len(new_pred) - 1):\n",
    "        test_prof = new_ytest[i+1] - new_ytest[i]\n",
    "        p_prof = new_pred[i+1] - new_pred[1]\n",
    "        if((test_prof>=0) and (p_prof>=0)):\n",
    "            TP=TP+1\n",
    "        if ((test_prof>= 0) and (p_prof<0)):\n",
    "            FN=FN+1\n",
    "        if ((test_prof<0) and (p_prof>=0)):\n",
    "            FP=FP + 1\n",
    "    \n",
    "    precision = float(TP) / float(TP+FP)\n",
    "    recall = float(TP) / float(TP+FN)\n",
    "    f1 = 2.0 * precision * recall / (precision + recall)\n",
    "    print('PRECISION SCORE: %.5f' % (recall))\n",
    "    print('RECALL SCORE: %.5f' % (precision))\n",
    "    print('F1 SCORE: %.5f' % (f1))\n",
    "    return f1, precision, recall"
   ]
  },
  {
   "cell_type": "code",
   "execution_count": 12,
   "metadata": {},
   "outputs": [],
   "source": [
    "# checkpoint = ModelCheckpoint(filepath = 'weights_best.hdf5', \n",
    "#                                verbose = 2, \n",
    "#                                save_best_only = True)\n",
    "EPOCHS = 50\n",
    "BATCH_SIZE = 64"
   ]
  },
  {
   "cell_type": "code",
   "execution_count": 13,
   "metadata": {},
   "outputs": [
    {
     "name": "stdout",
     "output_type": "stream",
     "text": [
      "Epoch 1/50\n",
      "169/169 [==============================] - 17s 79ms/step - loss: 0.0029\n",
      "Epoch 2/50\n",
      "169/169 [==============================] - 14s 80ms/step - loss: 9.3408e-04\n",
      "Epoch 3/50\n",
      "169/169 [==============================] - 14s 83ms/step - loss: 7.6991e-04\n",
      "Epoch 4/50\n",
      "169/169 [==============================] - 14s 84ms/step - loss: 7.3184e-04\n",
      "Epoch 5/50\n",
      "169/169 [==============================] - 14s 84ms/step - loss: 6.0815e-04\n",
      "Epoch 6/50\n",
      "169/169 [==============================] - 14s 84ms/step - loss: 6.1792e-04\n",
      "Epoch 7/50\n",
      "169/169 [==============================] - 15s 86ms/step - loss: 5.9526e-04\n",
      "Epoch 8/50\n",
      "169/169 [==============================] - 15s 87ms/step - loss: 5.8979e-04\n",
      "Epoch 9/50\n",
      "169/169 [==============================] - 15s 87ms/step - loss: 6.1853e-04\n",
      "Epoch 10/50\n",
      "169/169 [==============================] - 15s 89ms/step - loss: 5.1340e-04\n",
      "Epoch 11/50\n",
      "169/169 [==============================] - 15s 88ms/step - loss: 5.4416e-04\n",
      "Epoch 12/50\n",
      "169/169 [==============================] - 15s 89ms/step - loss: 5.3814e-04\n",
      "Epoch 13/50\n",
      "169/169 [==============================] - 15s 89ms/step - loss: 5.2989e-04\n",
      "Epoch 14/50\n",
      "169/169 [==============================] - 15s 89ms/step - loss: 5.2728e-04\n",
      "Epoch 15/50\n",
      "169/169 [==============================] - 15s 89ms/step - loss: 4.9858e-04\n",
      "Epoch 16/50\n",
      "169/169 [==============================] - 15s 89ms/step - loss: 5.1716e-04\n",
      "Epoch 17/50\n",
      "169/169 [==============================] - 15s 89ms/step - loss: 5.3424e-04\n",
      "Epoch 18/50\n",
      "169/169 [==============================] - 15s 90ms/step - loss: 4.7505e-04\n",
      "Epoch 19/50\n",
      "169/169 [==============================] - 15s 89ms/step - loss: 5.3277e-04\n",
      "Epoch 20/50\n",
      "169/169 [==============================] - 15s 90ms/step - loss: 4.8577e-04\n",
      "Epoch 21/50\n",
      "169/169 [==============================] - 15s 91ms/step - loss: 4.5600e-04\n",
      "Epoch 22/50\n",
      "169/169 [==============================] - 16s 92ms/step - loss: 4.4536e-04\n",
      "Epoch 23/50\n",
      "169/169 [==============================] - 15s 91ms/step - loss: 4.5534e-04\n",
      "Epoch 24/50\n",
      "169/169 [==============================] - 15s 92ms/step - loss: 4.9594e-04\n",
      "Epoch 25/50\n",
      "169/169 [==============================] - 15s 91ms/step - loss: 4.2786e-04\n",
      "Epoch 26/50\n",
      "169/169 [==============================] - 16s 92ms/step - loss: 4.3301e-04\n",
      "Epoch 27/50\n",
      "169/169 [==============================] - 15s 91ms/step - loss: 4.8075e-04\n",
      "Epoch 28/50\n",
      "169/169 [==============================] - 15s 92ms/step - loss: 4.4309e-04\n",
      "Epoch 29/50\n",
      "169/169 [==============================] - 15s 92ms/step - loss: 4.1115e-04\n",
      "Epoch 30/50\n",
      "169/169 [==============================] - 16s 92ms/step - loss: 4.3065e-04\n",
      "Epoch 31/50\n",
      "169/169 [==============================] - 16s 92ms/step - loss: 4.8803e-04\n",
      "Epoch 32/50\n",
      "169/169 [==============================] - 16s 93ms/step - loss: 4.4217e-04\n",
      "Epoch 33/50\n",
      "169/169 [==============================] - 16s 93ms/step - loss: 4.1598e-04\n",
      "Epoch 34/50\n",
      "169/169 [==============================] - 16s 94ms/step - loss: 3.9288e-04\n",
      "Epoch 35/50\n",
      "169/169 [==============================] - 16s 92ms/step - loss: 4.3143e-04\n",
      "Epoch 36/50\n",
      "169/169 [==============================] - 16s 92ms/step - loss: 4.2850e-04\n",
      "Epoch 37/50\n",
      "169/169 [==============================] - 16s 93ms/step - loss: 4.2757e-04\n",
      "Epoch 38/50\n",
      "169/169 [==============================] - 16s 94ms/step - loss: 4.2206e-04\n",
      "Epoch 39/50\n",
      "169/169 [==============================] - 16s 93ms/step - loss: 3.9410e-04\n",
      "Epoch 40/50\n",
      "169/169 [==============================] - 16s 93ms/step - loss: 4.1755e-04\n",
      "Epoch 41/50\n",
      "169/169 [==============================] - 16s 93ms/step - loss: 4.0546e-04\n",
      "Epoch 42/50\n",
      "169/169 [==============================] - 16s 94ms/step - loss: 4.1165e-04\n",
      "Epoch 43/50\n",
      "169/169 [==============================] - 16s 94ms/step - loss: 3.7633e-04\n",
      "Epoch 44/50\n",
      "169/169 [==============================] - 16s 94ms/step - loss: 4.0469e-04\n",
      "Epoch 45/50\n",
      "169/169 [==============================] - 16s 93ms/step - loss: 3.7890e-04\n",
      "Epoch 46/50\n",
      "169/169 [==============================] - 16s 93ms/step - loss: 3.6383e-04\n",
      "Epoch 47/50\n",
      "169/169 [==============================] - 16s 94ms/step - loss: 4.2700e-04\n",
      "Epoch 48/50\n",
      "169/169 [==============================] - 16s 94ms/step - loss: 3.7769e-04\n",
      "Epoch 49/50\n",
      "169/169 [==============================] - 16s 94ms/step - loss: 3.8796e-04\n",
      "Epoch 50/50\n",
      "169/169 [==============================] - 16s 93ms/step - loss: 3.9286e-04\n"
     ]
    },
    {
     "data": {
      "text/plain": [
       "<keras.callbacks.History at 0x1e03ff8ea90>"
      ]
     },
     "execution_count": 13,
     "metadata": {},
     "output_type": "execute_result"
    }
   ],
   "source": [
    "model.fit(x_train, y_train, epochs=EPOCHS, batch_size=BATCH_SIZE)"
   ]
  },
  {
   "cell_type": "code",
   "execution_count": 14,
   "metadata": {},
   "outputs": [
    {
     "data": {
      "text/plain": [
       "0.5029721055820913"
      ]
     },
     "execution_count": 14,
     "metadata": {},
     "output_type": "execute_result"
    }
   ],
   "source": [
    "test_data = scaled_dataset[train_size - prediction_days: , :]\n",
    "x_test = []\n",
    "y_test = dataset[train_size:, :]\n",
    "for i in range(prediction_days, len(test_data)):\n",
    "    x_test.append(test_data[i-prediction_days:i, 0])\n",
    "\n",
    "\n",
    "x_test = np.array(x_test)\n",
    "x_test = np.reshape(x_test, (x_test.shape[0], x_test.shape[1], 1))\n",
    "\n",
    "predictions = model.predict(x_test)\n",
    "predictions = scaler.inverse_transform(predictions)\n",
    "\n",
    "new_ytest = scaler.inverse_transform(y_test)\n",
    "\n",
    "rmse = np.sqrt(np.mean(((predictions - y_test) ** 2)))\n",
    "\n",
    "rmse"
   ]
  },
  {
   "cell_type": "code",
   "execution_count": 15,
   "metadata": {},
   "outputs": [
    {
     "data": {
      "text/plain": [
       "-0.39011869617263045"
      ]
     },
     "execution_count": 15,
     "metadata": {},
     "output_type": "execute_result"
    }
   ],
   "source": [
    "mae = np.mean(y_test - predictions)\n",
    "mae"
   ]
  },
  {
   "cell_type": "code",
   "execution_count": 16,
   "metadata": {},
   "outputs": [
    {
     "name": "stdout",
     "output_type": "stream",
     "text": [
      "PRECISION SCORE: 0.99694\n",
      "RECALL SCORE: 0.54288\n",
      "F1 SCORE: 0.70296\n"
     ]
    }
   ],
   "source": [
    "f1, precision, recall = f1_score(predictions, new_ytest)"
   ]
  },
  {
   "cell_type": "code",
   "execution_count": 17,
   "metadata": {},
   "outputs": [
    {
     "name": "stderr",
     "output_type": "stream",
     "text": [
      "C:\\Users\\ADRIC\\AppData\\Local\\Temp\\ipykernel_43148\\2856021547.py:4: SettingWithCopyWarning: \n",
      "A value is trying to be set on a copy of a slice from a DataFrame.\n",
      "Try using .loc[row_indexer,col_indexer] = value instead\n",
      "\n",
      "See the caveats in the documentation: https://pandas.pydata.org/pandas-docs/stable/user_guide/indexing.html#returning-a-view-versus-a-copy\n",
      "  valid['Predictions'] = predictions\n"
     ]
    },
    {
     "data": {
      "image/png": "[encoded data removed]",
      "text/plain": [
       "<Figure size 1440x432 with 1 Axes>"
      ]
     },
     "metadata": {
      "needs_background": "light"
     },
     "output_type": "display_data"
    }
   ],
   "source": [
    "# Plot the data\n",
    "train = data[:train_size]\n",
    "valid = data[train_size:]\n",
    "valid['Predictions'] = predictions\n",
    "\n",
    "plt.figure(figsize=(20,6))\n",
    "plt.title('HP Model')\n",
    "plt.xlabel('Date', fontsize=18)\n",
    "plt.ylabel('Close Price USD ($)', fontsize=18)\n",
    "\n",
    "plt.plot(train['Close'])\n",
    "plt.plot(valid[['Close', 'Predictions']])\n",
    "plt.legend(['Train', 'True Predictions', 'Test Predictions'], loc='lower right')\n",
    "plt.show()"
   ]
  },
  {
   "cell_type": "code",
   "execution_count": 18,
   "metadata": {},
   "outputs": [
    {
     "name": "stdout",
     "output_type": "stream",
     "text": [
      "10868\n",
      "1207\n",
      "12075\n",
      "12075\n"
     ]
    }
   ],
   "source": [
    "print(len(train))\n",
    "print(len(valid))\n",
    "print(len(train) + len(valid))\n",
    "print(len(data))"
   ]
  },
  {
   "cell_type": "code",
   "execution_count": 19,
   "metadata": {},
   "outputs": [
    {
     "data": {
      "text/html": [
       "<div>\n",
       "<style scoped>\n",
       "    .dataframe tbody tr th:only-of-type {\n",
       "        vertical-align: middle;\n",
       "    }\n",
       "\n",
       "    .dataframe tbody tr th {\n",
       "        vertical-align: top;\n",
       "    }\n",
       "\n",
       "    .dataframe thead th {\n",
       "        text-align: right;\n",
       "    }\n",
       "</style>\n",
       "<table border=\"1\" class=\"dataframe\">\n",
       "  <thead>\n",
       "    <tr style=\"text-align: right;\">\n",
       "      <th></th>\n",
       "      <th>Date</th>\n",
       "      <th>Open</th>\n",
       "      <th>High</th>\n",
       "      <th>Low</th>\n",
       "      <th>Close</th>\n",
       "      <th>Volume</th>\n",
       "      <th>OpenInt</th>\n",
       "    </tr>\n",
       "  </thead>\n",
       "  <tbody>\n",
       "    <tr>\n",
       "      <th>0</th>\n",
       "      <td>1970-01-02</td>\n",
       "      <td>0.30627</td>\n",
       "      <td>0.30627</td>\n",
       "      <td>0.30627</td>\n",
       "      <td>0.30627</td>\n",
       "      <td>2441124</td>\n",
       "      <td>0</td>\n",
       "    </tr>\n",
       "    <tr>\n",
       "      <th>1</th>\n",
       "      <td>1970-01-05</td>\n",
       "      <td>0.30627</td>\n",
       "      <td>0.31768</td>\n",
       "      <td>0.30627</td>\n",
       "      <td>0.31385</td>\n",
       "      <td>6219848</td>\n",
       "      <td>0</td>\n",
       "    </tr>\n",
       "    <tr>\n",
       "      <th>2</th>\n",
       "      <td>1970-01-06</td>\n",
       "      <td>0.31385</td>\n",
       "      <td>0.31385</td>\n",
       "      <td>0.30996</td>\n",
       "      <td>0.30996</td>\n",
       "      <td>4447522</td>\n",
       "      <td>0</td>\n",
       "    </tr>\n",
       "    <tr>\n",
       "      <th>3</th>\n",
       "      <td>1970-01-07</td>\n",
       "      <td>0.31385</td>\n",
       "      <td>0.31385</td>\n",
       "      <td>0.31385</td>\n",
       "      <td>0.31385</td>\n",
       "      <td>1872638</td>\n",
       "      <td>0</td>\n",
       "    </tr>\n",
       "    <tr>\n",
       "      <th>4</th>\n",
       "      <td>1970-01-08</td>\n",
       "      <td>0.31385</td>\n",
       "      <td>0.31768</td>\n",
       "      <td>0.31385</td>\n",
       "      <td>0.31385</td>\n",
       "      <td>4280330</td>\n",
       "      <td>0</td>\n",
       "    </tr>\n",
       "    <tr>\n",
       "      <th>...</th>\n",
       "      <td>...</td>\n",
       "      <td>...</td>\n",
       "      <td>...</td>\n",
       "      <td>...</td>\n",
       "      <td>...</td>\n",
       "      <td>...</td>\n",
       "      <td>...</td>\n",
       "    </tr>\n",
       "    <tr>\n",
       "      <th>12070</th>\n",
       "      <td>2017-11-06</td>\n",
       "      <td>21.47000</td>\n",
       "      <td>21.53000</td>\n",
       "      <td>21.38000</td>\n",
       "      <td>21.44000</td>\n",
       "      <td>13309476</td>\n",
       "      <td>0</td>\n",
       "    </tr>\n",
       "    <tr>\n",
       "      <th>12071</th>\n",
       "      <td>2017-11-07</td>\n",
       "      <td>21.47000</td>\n",
       "      <td>21.47000</td>\n",
       "      <td>21.32000</td>\n",
       "      <td>21.38000</td>\n",
       "      <td>6245536</td>\n",
       "      <td>0</td>\n",
       "    </tr>\n",
       "    <tr>\n",
       "      <th>12072</th>\n",
       "      <td>2017-11-08</td>\n",
       "      <td>21.34000</td>\n",
       "      <td>21.47000</td>\n",
       "      <td>21.24000</td>\n",
       "      <td>21.42000</td>\n",
       "      <td>6061868</td>\n",
       "      <td>0</td>\n",
       "    </tr>\n",
       "    <tr>\n",
       "      <th>12073</th>\n",
       "      <td>2017-11-09</td>\n",
       "      <td>21.27000</td>\n",
       "      <td>21.40000</td>\n",
       "      <td>21.15000</td>\n",
       "      <td>21.34000</td>\n",
       "      <td>5844935</td>\n",
       "      <td>0</td>\n",
       "    </tr>\n",
       "    <tr>\n",
       "      <th>12074</th>\n",
       "      <td>2017-11-10</td>\n",
       "      <td>21.25000</td>\n",
       "      <td>21.31000</td>\n",
       "      <td>21.14000</td>\n",
       "      <td>21.23000</td>\n",
       "      <td>6276650</td>\n",
       "      <td>0</td>\n",
       "    </tr>\n",
       "  </tbody>\n",
       "</table>\n",
       "<p>12075 rows × 7 columns</p>\n",
       "</div>"
      ],
      "text/plain": [
       "             Date      Open      High       Low     Close    Volume  OpenInt\n",
       "0      1970-01-02   0.30627   0.30627   0.30627   0.30627   2441124        0\n",
       "1      1970-01-05   0.30627   0.31768   0.30627   0.31385   6219848        0\n",
       "2      1970-01-06   0.31385   0.31385   0.30996   0.30996   4447522        0\n",
       "3      1970-01-07   0.31385   0.31385   0.31385   0.31385   1872638        0\n",
       "4      1970-01-08   0.31385   0.31768   0.31385   0.31385   4280330        0\n",
       "...           ...       ...       ...       ...       ...       ...      ...\n",
       "12070  2017-11-06  21.47000  21.53000  21.38000  21.44000  13309476        0\n",
       "12071  2017-11-07  21.47000  21.47000  21.32000  21.38000   6245536        0\n",
       "12072  2017-11-08  21.34000  21.47000  21.24000  21.42000   6061868        0\n",
       "12073  2017-11-09  21.27000  21.40000  21.15000  21.34000   5844935        0\n",
       "12074  2017-11-10  21.25000  21.31000  21.14000  21.23000   6276650        0\n",
       "\n",
       "[12075 rows x 7 columns]"
      ]
     },
     "execution_count": 19,
     "metadata": {},
     "output_type": "execute_result"
    }
   ],
   "source": [
    "df.head()\n",
    "df"
   ]
  },
  {
   "cell_type": "code",
   "execution_count": 20,
   "metadata": {},
   "outputs": [
    {
     "data": {
      "text/html": [
       "<div>\n",
       "<style scoped>\n",
       "    .dataframe tbody tr th:only-of-type {\n",
       "        vertical-align: middle;\n",
       "    }\n",
       "\n",
       "    .dataframe tbody tr th {\n",
       "        vertical-align: top;\n",
       "    }\n",
       "\n",
       "    .dataframe thead th {\n",
       "        text-align: right;\n",
       "    }\n",
       "</style>\n",
       "<table border=\"1\" class=\"dataframe\">\n",
       "  <thead>\n",
       "    <tr style=\"text-align: right;\">\n",
       "      <th></th>\n",
       "      <th>Close</th>\n",
       "    </tr>\n",
       "  </thead>\n",
       "  <tbody>\n",
       "    <tr>\n",
       "      <th>0</th>\n",
       "      <td>0.30627</td>\n",
       "    </tr>\n",
       "    <tr>\n",
       "      <th>1</th>\n",
       "      <td>0.31385</td>\n",
       "    </tr>\n",
       "    <tr>\n",
       "      <th>2</th>\n",
       "      <td>0.30996</td>\n",
       "    </tr>\n",
       "    <tr>\n",
       "      <th>3</th>\n",
       "      <td>0.31385</td>\n",
       "    </tr>\n",
       "    <tr>\n",
       "      <th>4</th>\n",
       "      <td>0.31385</td>\n",
       "    </tr>\n",
       "    <tr>\n",
       "      <th>...</th>\n",
       "      <td>...</td>\n",
       "    </tr>\n",
       "    <tr>\n",
       "      <th>10863</th>\n",
       "      <td>6.79700</td>\n",
       "    </tr>\n",
       "    <tr>\n",
       "      <th>10864</th>\n",
       "      <td>6.79700</td>\n",
       "    </tr>\n",
       "    <tr>\n",
       "      <th>10865</th>\n",
       "      <td>6.78880</td>\n",
       "    </tr>\n",
       "    <tr>\n",
       "      <th>10866</th>\n",
       "      <td>6.80090</td>\n",
       "    </tr>\n",
       "    <tr>\n",
       "      <th>10867</th>\n",
       "      <td>6.58490</td>\n",
       "    </tr>\n",
       "  </tbody>\n",
       "</table>\n",
       "<p>10868 rows × 1 columns</p>\n",
       "</div>"
      ],
      "text/plain": [
       "         Close\n",
       "0      0.30627\n",
       "1      0.31385\n",
       "2      0.30996\n",
       "3      0.31385\n",
       "4      0.31385\n",
       "...        ...\n",
       "10863  6.79700\n",
       "10864  6.79700\n",
       "10865  6.78880\n",
       "10866  6.80090\n",
       "10867  6.58490\n",
       "\n",
       "[10868 rows x 1 columns]"
      ]
     },
     "execution_count": 20,
     "metadata": {},
     "output_type": "execute_result"
    }
   ],
   "source": [
    "train"
   ]
  },
  {
   "cell_type": "code",
   "execution_count": 21,
   "metadata": {},
   "outputs": [
    {
     "data": {
      "text/html": [
       "<div>\n",
       "<style scoped>\n",
       "    .dataframe tbody tr th:only-of-type {\n",
       "        vertical-align: middle;\n",
       "    }\n",
       "\n",
       "    .dataframe tbody tr th {\n",
       "        vertical-align: top;\n",
       "    }\n",
       "\n",
       "    .dataframe thead th {\n",
       "        text-align: right;\n",
       "    }\n",
       "</style>\n",
       "<table border=\"1\" class=\"dataframe\">\n",
       "  <thead>\n",
       "    <tr style=\"text-align: right;\">\n",
       "      <th></th>\n",
       "      <th>Close</th>\n",
       "      <th>Predictions</th>\n",
       "    </tr>\n",
       "  </thead>\n",
       "  <tbody>\n",
       "    <tr>\n",
       "      <th>10868</th>\n",
       "      <td>6.5532</td>\n",
       "      <td>6.807040</td>\n",
       "    </tr>\n",
       "    <tr>\n",
       "      <th>10869</th>\n",
       "      <td>6.5972</td>\n",
       "      <td>6.727535</td>\n",
       "    </tr>\n",
       "    <tr>\n",
       "      <th>10870</th>\n",
       "      <td>6.5770</td>\n",
       "      <td>6.692564</td>\n",
       "    </tr>\n",
       "    <tr>\n",
       "      <th>10871</th>\n",
       "      <td>6.4652</td>\n",
       "      <td>6.688833</td>\n",
       "    </tr>\n",
       "    <tr>\n",
       "      <th>10872</th>\n",
       "      <td>6.6372</td>\n",
       "      <td>6.657203</td>\n",
       "    </tr>\n",
       "    <tr>\n",
       "      <th>...</th>\n",
       "      <td>...</td>\n",
       "      <td>...</td>\n",
       "    </tr>\n",
       "    <tr>\n",
       "      <th>12070</th>\n",
       "      <td>21.4400</td>\n",
       "      <td>22.227455</td>\n",
       "    </tr>\n",
       "    <tr>\n",
       "      <th>12071</th>\n",
       "      <td>21.3800</td>\n",
       "      <td>22.208191</td>\n",
       "    </tr>\n",
       "    <tr>\n",
       "      <th>12072</th>\n",
       "      <td>21.4200</td>\n",
       "      <td>22.158464</td>\n",
       "    </tr>\n",
       "    <tr>\n",
       "      <th>12073</th>\n",
       "      <td>21.3400</td>\n",
       "      <td>22.154427</td>\n",
       "    </tr>\n",
       "    <tr>\n",
       "      <th>12074</th>\n",
       "      <td>21.2300</td>\n",
       "      <td>22.109196</td>\n",
       "    </tr>\n",
       "  </tbody>\n",
       "</table>\n",
       "<p>1207 rows × 2 columns</p>\n",
       "</div>"
      ],
      "text/plain": [
       "         Close  Predictions\n",
       "10868   6.5532     6.807040\n",
       "10869   6.5972     6.727535\n",
       "10870   6.5770     6.692564\n",
       "10871   6.4652     6.688833\n",
       "10872   6.6372     6.657203\n",
       "...        ...          ...\n",
       "12070  21.4400    22.227455\n",
       "12071  21.3800    22.208191\n",
       "12072  21.4200    22.158464\n",
       "12073  21.3400    22.154427\n",
       "12074  21.2300    22.109196\n",
       "\n",
       "[1207 rows x 2 columns]"
      ]
     },
     "execution_count": 21,
     "metadata": {},
     "output_type": "execute_result"
    }
   ],
   "source": [
    "valid"
   ]
  },
  {
   "cell_type": "markdown",
   "metadata": {},
   "source": [
    "## GRU"
   ]
  },
  {
   "cell_type": "code",
   "execution_count": 22,
   "metadata": {},
   "outputs": [],
   "source": [
    "# from keras.layers import GRU, Input\n",
    "\n",
    "# def GRU_Exp():\n",
    "#     model = Sequential()\n",
    "\n",
    "#     model.add(GRU(units = 128, return_sequences = True, input_shape = (x_train.shape[1], 1)))\n",
    "#     model.add(Dropout(DROPOUT_UNIT))\n",
    "\n",
    "#     # model.add(GRU(units = 64, return_sequences= True))\n",
    "#     # model.add(Dropout(DROPOUT_UNIT))\n",
    "\n",
    "#     # model.add(GRU(units= 64, return_sequences= True))\n",
    "#     # model.add(Dropout(DROPOUT_UNIT))\n",
    "    \n",
    "#     model.add(GRU(units= 64, return_sequences= True))\n",
    "#     model.add(Dropout(DROPOUT_UNIT))\n",
    "    \n",
    "#     model.add(GRU(units= 64, return_sequences= True))\n",
    "#     model.add(Dropout(DROPOUT_UNIT))\n",
    "    \n",
    "#     model.add(GRU(units = 64))\n",
    "#     model.add(Dropout(DROPOUT_UNIT))\n",
    "\n",
    "#     model.add(Dense(1, activation='linear'))\n",
    "\n",
    "#     return model"
   ]
  },
  {
   "cell_type": "code",
   "execution_count": 23,
   "metadata": {},
   "outputs": [],
   "source": [
    "# gru_model = GRU_Exp()\n",
    "# gru_model.summary()\n",
    "# gru_model.compile(optimizer='adam', loss='mean_squared_error', metrics='accuracy')"
   ]
  },
  {
   "cell_type": "code",
   "execution_count": 24,
   "metadata": {},
   "outputs": [],
   "source": [
    "# gru_model.fit(x_train, y_train, epochs=EPOCHS, batch_size=BATCH_SIZE)"
   ]
  },
  {
   "cell_type": "code",
   "execution_count": 25,
   "metadata": {},
   "outputs": [],
   "source": [
    "# test_data = scaled_dataset[train_size - prediction_days: , :]\n",
    "# x_test = []\n",
    "# y_test = dataset[train_size:, :]\n",
    "# for i in range(prediction_days, len(test_data)):\n",
    "#     x_test.append(test_data[i-prediction_days:i, 0])\n",
    "\n",
    "\n",
    "# x_test = np.array(x_test)\n",
    "# x_test = np.reshape(x_test, (x_test.shape[0], x_test.shape[1], 1))\n",
    "\n",
    "# predictions = gru_model.predict(x_test)\n",
    "# predictions = scaler.inverse_transform(predictions)\n",
    "\n",
    "# new_ytest = scaler.inverse_transform(y_test)\n",
    "\n",
    "# rmse = np.sqrt(np.mean(((predictions - y_test) ** 2)))\n",
    "\n",
    "# rmse"
   ]
  },
  {
   "cell_type": "code",
   "execution_count": null,
   "metadata": {},
   "outputs": [],
   "source": [
    "# f1, precision, recall = f1_score(predictions, new_ytest)"
   ]
  },
  {
   "cell_type": "code",
   "execution_count": null,
   "metadata": {},
   "outputs": [],
   "source": [
    "# # Plot the data\n",
    "# train = data[:train_size]\n",
    "# valid = data[train_size:]\n",
    "# valid['Predictions'] = predictions\n",
    "\n",
    "# plt.figure(figsize=(20,6))\n",
    "# plt.title('HP Model')\n",
    "# plt.xlabel('Date', fontsize=18)\n",
    "# plt.ylabel('Close Price USD ($)', fontsize=18)\n",
    "\n",
    "# plt.plot(train['Close'])\n",
    "# plt.plot(valid[['Close', 'Predictions']])\n",
    "# plt.legend(['Train', 'True Predictions', 'Test Predictions'], loc='lower right')\n",
    "# plt.show()"
   ]
  }
 ],
 "metadata": {
  "kernelspec": {
   "display_name": "Python 3.8.0 64-bit",
   "language": "python",
   "name": "python3"
  },
  "language_info": {
   "codemirror_mode": {
    "name": "ipython",
    "version": 3
   },
   "file_extension": ".py",
   "mimetype": "text/x-python",
   "name": "python",
   "nbconvert_exporter": "python",
   "pygments_lexer": "ipython3",
   "version": "3.8.0"
  },
  "orig_nbformat": 4,
  "vscode": {
   "interpreter": {
    "hash": "1172f54f9f4d0f9ec4833dd47a50061436c61a08b611e51195ec9a6c5f4ecf65"
   }
  }
 },
 "nbformat": 4,
 "nbformat_minor": 2
}
